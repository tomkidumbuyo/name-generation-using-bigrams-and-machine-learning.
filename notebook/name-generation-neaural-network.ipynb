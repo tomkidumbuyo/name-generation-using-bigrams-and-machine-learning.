{
 "cells": [
  {
   "cell_type": "markdown",
   "id": "bc02b02f-5fbb-4917-a01c-4f6d06df4222",
   "metadata": {},
   "source": [
    "## Name generation neural network\n",
    "In this tutorial we are going to create a neural network that generates "
   ]
  },
  {
   "cell_type": "code",
   "execution_count": null,
   "id": "ac3521c8-1928-4053-9c16-9c121e478521",
   "metadata": {},
   "outputs": [],
   "source": []
  }
 ],
 "metadata": {
  "kernelspec": {
   "display_name": "Python (jupyter_env)",
   "language": "python",
   "name": "jupyter_env"
  },
  "language_info": {
   "codemirror_mode": {
    "name": "ipython",
    "version": 3
   },
   "file_extension": ".py",
   "mimetype": "text/x-python",
   "name": "python",
   "nbconvert_exporter": "python",
   "pygments_lexer": "ipython3",
   "version": "3.8.16"
  }
 },
 "nbformat": 4,
 "nbformat_minor": 5
}
